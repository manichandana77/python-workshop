{
 "cells": [
  {
   "cell_type": "markdown",
   "metadata": {},
   "source": [
    "# Todays concepts\n",
    "- Oops\n",
    "- Regular expressions\n",
    "- Files\n",
    "- Matplotiib"
   ]
  },
  {
   "cell_type": "code",
   "execution_count": null,
   "metadata": {},
   "outputs": [],
   "source": [
    "# Object oriented Programming\n",
    "# object: instance of class\n",
    " # its having properties(var) and some actions(methods)\n",
    "#class:\n",
    "#collection of methods variables and methods\n",
    "#syntax:\n",
    "#class ClassName:\n",
    "     # variables\n",
    "     # methods\n"
   ]
  },
  {
   "cell_type": "code",
   "execution_count": 1,
   "metadata": {},
   "outputs": [],
   "source": [
    "class Student:\n",
    "    pass"
   ]
  },
  {
   "cell_type": "code",
   "execution_count": 2,
   "metadata": {},
   "outputs": [],
   "source": [
    "# to create a object:\n",
    "#syntax:\n",
    "# var = classname()\n",
    "s = Student()\n"
   ]
  },
  {
   "cell_type": "code",
   "execution_count": 3,
   "metadata": {},
   "outputs": [],
   "source": [
    "class student:\n",
    "    x = 10 \n",
    "    y = 20\n"
   ]
  },
  {
   "cell_type": "code",
   "execution_count": 7,
   "metadata": {},
   "outputs": [
    {
     "data": {
      "text/plain": [
       "10"
      ]
     },
     "execution_count": 7,
     "metadata": {},
     "output_type": "execute_result"
    }
   ],
   "source": [
    "student().x\n",
    "student().y\n",
    "s = student()\n",
    "s.x"
   ]
  },
  {
   "cell_type": "code",
   "execution_count": 12,
   "metadata": {},
   "outputs": [],
   "source": [
    "class student:\n",
    "    x = 10 \n",
    "    y = 20\n",
    "    def Display(self):\n",
    "        name = input('enter name of the student:')\n",
    "        print('hello',name)"
   ]
  },
  {
   "cell_type": "code",
   "execution_count": 13,
   "metadata": {},
   "outputs": [
    {
     "name": "stdout",
     "output_type": "stream",
     "text": [
      "enter name of the student:chandana\n",
      "hello chandana\n"
     ]
    }
   ],
   "source": [
    "student().x\n",
    "student().y\n",
    "s = student()\n",
    "s.x\n",
    "s.Display()"
   ]
  },
  {
   "cell_type": "markdown",
   "metadata": {},
   "source": [
    "# constructor:\n"
   ]
  },
  {
   "cell_type": "code",
   "execution_count": null,
   "metadata": {},
   "outputs": [],
   "source": [
    "# syntax:\n",
    "__init__(self):\n",
    "    #statements"
   ]
  },
  {
   "cell_type": "code",
   "execution_count": 20,
   "metadata": {},
   "outputs": [],
   "source": [
    "class Cse:\n",
    "    sections = 3\n",
    "    year = 2\n",
    "    def __init__(self):\n",
    "        print('This is constructor')\n",
    "    def Details(self):\n",
    "        print('hello {} year having {} sections'.format(Cse.year,Cse.sections))"
   ]
  },
  {
   "cell_type": "code",
   "execution_count": 22,
   "metadata": {},
   "outputs": [
    {
     "name": "stdout",
     "output_type": "stream",
     "text": [
      "This is constructor\n",
      "hello 2 year having 3 sections\n"
     ]
    }
   ],
   "source": [
    "c =Cse()\n",
    "c.Details()"
   ]
  },
  {
   "cell_type": "code",
   "execution_count": 25,
   "metadata": {},
   "outputs": [],
   "source": [
    "class Cse:\n",
    "    sections = 3\n",
    "    year = 2\n",
    "    def __init__(self,section,year):\n",
    "        print('This is constructor')\n",
    "        self.section=section\n",
    "        self.year=year\n",
    "    def Details(self):\n",
    "        print('hello {} year having {} sections'.format(Cse.year,Cse.sections))"
   ]
  },
  {
   "cell_type": "code",
   "execution_count": 27,
   "metadata": {},
   "outputs": [
    {
     "name": "stdout",
     "output_type": "stream",
     "text": [
      "This is constructor\n",
      "hello 2 year having 3 sections\n"
     ]
    }
   ],
   "source": [
    "c =Cse(3,2)\n",
    "c.Details()"
   ]
  },
  {
   "cell_type": "markdown",
   "metadata": {},
   "source": [
    "### Inheritance \n",
    "- getting the properties from parent class to child class\n",
    "### Polymorphism\n",
    "# method overloading\n",
    "- same methods with same parameters\n",
    "# method overriding\n",
    "- same methods with different Parameters and arguments\n",
    "# Abstraction"
   ]
  },
  {
   "cell_type": "code",
   "execution_count": 32,
   "metadata": {},
   "outputs": [],
   "source": [
    "class Parent:\n",
    "    x = 10\n",
    "    y = 20\n",
    "    def M1(self):\n",
    "        print('Parent method..')\n",
    "class Child:\n",
    "    z = 30\n",
    "    def __init__(self):\n",
    "        self.parent = Parent()\n",
    "    def M2(self):\n",
    "        print(self.parent.x)\n",
    "        print(self.parent.y)\n",
    "        print(Child().z)\n",
    "        print(self.parent.M1())"
   ]
  },
  {
   "cell_type": "code",
   "execution_count": 34,
   "metadata": {},
   "outputs": [
    {
     "name": "stdout",
     "output_type": "stream",
     "text": [
      "10\n",
      "20\n",
      "30\n",
      "Parent method..\n",
      "None\n"
     ]
    }
   ],
   "source": [
    "c = Child()\n",
    "c.M2()"
   ]
  },
  {
   "cell_type": "code",
   "execution_count": 35,
   "metadata": {},
   "outputs": [
    {
     "name": "stdout",
     "output_type": "stream",
     "text": [
      "class B method..\n"
     ]
    }
   ],
   "source": [
    "# Is_ A Relation\n",
    "class A:\n",
    "    x = 20\n",
    "    y = 30\n",
    "    def m1(self):\n",
    "        print('class A Method')\n",
    "class B(A):\n",
    "    z=40\n",
    "    def m2(self):\n",
    "        print('class B method..')\n",
    "obj = B()\n",
    "obj.m2()"
   ]
  },
  {
   "cell_type": "code",
   "execution_count": 36,
   "metadata": {},
   "outputs": [
    {
     "name": "stdout",
     "output_type": "stream",
     "text": [
      "class A Method\n"
     ]
    }
   ],
   "source": [
    "class A:\n",
    "    x = 20\n",
    "    y = 30\n",
    "    def m1(self):\n",
    "        print('class A Method')\n",
    "class B(A):\n",
    "    z=40\n",
    "    def m2(self):\n",
    "        print('class B method..')\n",
    "obj = A()\n",
    "obj.m1()"
   ]
  },
  {
   "cell_type": "code",
   "execution_count": 52,
   "metadata": {},
   "outputs": [],
   "source": [
    "#Multi Level inheritance\n",
    "class Parent:\n",
    "    name = 'Akhil'\n",
    "    company = 'APSSDC'\n",
    "    def m1(self):\n",
    "        print('Hello',Parent.name,'welcome to',Parent.company)\n",
    "class Child(Parent):\n",
    "    name1 = 'chandu'\n",
    "    company = 'APSSDC'\n",
    "    def m2(self):\n",
    "        print('Hello',Child.name1,'welcome to',Child.company)\n",
    "class Subchild(Child):\n",
    "    name2 = 'cherry'\n",
    "    company = 'APSSDC'\n",
    "    def mm(self):\n",
    "        print('Hello',Subchild.name2,'welcome to',Subchild.company)"
   ]
  },
  {
   "cell_type": "code",
   "execution_count": 53,
   "metadata": {},
   "outputs": [
    {
     "name": "stdout",
     "output_type": "stream",
     "text": [
      "Hello Akhil welcome to APSSDC\n"
     ]
    }
   ],
   "source": [
    "obj = Subchild()\n",
    "obj.m1()"
   ]
  },
  {
   "cell_type": "code",
   "execution_count": 54,
   "metadata": {},
   "outputs": [
    {
     "name": "stdout",
     "output_type": "stream",
     "text": [
      "Hello Akhil welcome to APSSDC\n",
      "Hello chandu welcome to APSSDC\n",
      "Hello cherry welcome to APSSDC\n"
     ]
    }
   ],
   "source": [
    "s=Subchild()\n",
    "s.m1()\n",
    "s.m2()\n",
    "obj.mm()"
   ]
  },
  {
   "cell_type": "markdown",
   "metadata": {},
   "source": [
    "# Regular Expression"
   ]
  },
  {
   "cell_type": "markdown",
   "metadata": {},
   "source": [
    "- Regular expressions are using patterns\n",
    "- by using regular expressions in python we can one module i.e.import **re**\n",
    "- Regular Expression syntax----->\n",
    "- modulename.methodname(pattern,value or variable names)\n",
    "# Methods:\n",
    "- search\n",
    "- match\n",
    "- findall\n",
    "-patterns"
   ]
  },
  {
   "cell_type": "code",
   "execution_count": null,
   "metadata": {},
   "outputs": [],
   "source": [
    "- ^\n",
    "- $\n",
    "- *\n",
    "- .\n",
    "- \\d\n",
    "- \\D\n",
    "- \\s\n",
    "- \\S\n",
    "- \\w\n",
    "- \\W\n",
    "- (a-z,A-Z)\n",
    "- (0-9)\n",
    "- [aeiou]"
   ]
  },
  {
   "cell_type": "markdown",
   "metadata": {},
   "source": [
    "- ^ Matches the beginning of the line\n",
    "- $ Matches the end of the line\n",
    "- . Matches any character\n",
    "- \\s Matches Whitespace\n",
    "- \\S Matches any non-Whitespace character\n",
    "- *Repeats a character zero or more times\n",
    "- *?Repeats a character zero or more times(non-greedy)\n",
    "- +Repeats a character one or more times\n",
    "- +?Repeats a character one or more times(non-greedy)\n",
    "- [aeiou] Matches a single character in the listed set\n",
    "- [^XYZ] Matches a single character no in the listed set\n",
    "- [a-z0-9] The set of characters can include a range\n",
    "- ( Indicates where string extraction is to start\n",
    "- ) Indicates where string extraction is to end\n",
    "- e Matches digits\n",
    "- E Except the digits \n",
    "- W special symbols written\n",
    "- w without special symbols written"
   ]
  },
  {
   "cell_type": "code",
   "execution_count": 3,
   "metadata": {},
   "outputs": [
    {
     "data": {
      "text/plain": [
       "<re.Match object; span=(0, 2), match='py'>"
      ]
     },
     "execution_count": 3,
     "metadata": {},
     "output_type": "execute_result"
    }
   ],
   "source": [
    "import re\n",
    "re.search('^py', 'python workshop')"
   ]
  },
  {
   "cell_type": "code",
   "execution_count": 4,
   "metadata": {},
   "outputs": [
    {
     "data": {
      "text/plain": [
       "<re.Match object; span=(13, 14), match='p'>"
      ]
     },
     "execution_count": 4,
     "metadata": {},
     "output_type": "execute_result"
    }
   ],
   "source": [
    "re.search('p$','pythonworkshop')"
   ]
  },
  {
   "cell_type": "code",
   "execution_count": 5,
   "metadata": {},
   "outputs": [
    {
     "data": {
      "text/plain": [
       "<re.Match object; span=(0, 2), match='py'>"
      ]
     },
     "execution_count": 5,
     "metadata": {},
     "output_type": "execute_result"
    }
   ],
   "source": [
    "re.search('..','pythonworkshop')"
   ]
  },
  {
   "cell_type": "code",
   "execution_count": 6,
   "metadata": {},
   "outputs": [
    {
     "data": {
      "text/plain": [
       "<re.Match object; span=(0, 1), match='0'>"
      ]
     },
     "execution_count": 6,
     "metadata": {},
     "output_type": "execute_result"
    }
   ],
   "source": [
    "re.search('\\d','02-05-2002chandu')"
   ]
  },
  {
   "cell_type": "code",
   "execution_count": 8,
   "metadata": {},
   "outputs": [
    {
     "data": {
      "text/plain": [
       "<re.Match object; span=(2, 3), match='-'>"
      ]
     },
     "execution_count": 8,
     "metadata": {},
     "output_type": "execute_result"
    }
   ],
   "source": [
    "re.search('\\D','02-05-2002chandu')"
   ]
  },
  {
   "cell_type": "code",
   "execution_count": 9,
   "metadata": {},
   "outputs": [
    {
     "data": {
      "text/plain": [
       "[' ', ' ', ' ']"
      ]
     },
     "execution_count": 9,
     "metadata": {},
     "output_type": "execute_result"
    }
   ],
   "source": [
    "x='welcome to python workshop'\n",
    "re.findall('\\s',x)"
   ]
  },
  {
   "cell_type": "code",
   "execution_count": 13,
   "metadata": {},
   "outputs": [
    {
     "data": {
      "text/plain": [
       "['w',\n",
       " 'e',\n",
       " 'l',\n",
       " 'c',\n",
       " 'o',\n",
       " 'm',\n",
       " 'e',\n",
       " '@',\n",
       " 't',\n",
       " 'o',\n",
       " 'p',\n",
       " 'y',\n",
       " 't',\n",
       " 'h',\n",
       " 'o',\n",
       " 'n',\n",
       " '&',\n",
       " 'w',\n",
       " 'o',\n",
       " 'r',\n",
       " 'k',\n",
       " 's',\n",
       " 'h',\n",
       " 'o',\n",
       " 'p']"
      ]
     },
     "execution_count": 13,
     "metadata": {},
     "output_type": "execute_result"
    }
   ],
   "source": [
    "x='welcome@ to python& workshop'\n",
    "re.findall('\\s',x)\n",
    "re.findall('\\S',x)\n"
   ]
  },
  {
   "cell_type": "code",
   "execution_count": 14,
   "metadata": {},
   "outputs": [
    {
     "data": {
      "text/plain": [
       "['@', '.']"
      ]
     },
     "execution_count": 14,
     "metadata": {},
     "output_type": "execute_result"
    }
   ],
   "source": [
    "re.search('\\W','chandu123_p@gmail.com')\n",
    "re.findall('\\W','chandu123_p@gmail.com')"
   ]
  },
  {
   "cell_type": "code",
   "execution_count": 15,
   "metadata": {
    "scrolled": true
   },
   "outputs": [
    {
     "data": {
      "text/plain": [
       "['c',\n",
       " 'h',\n",
       " 'a',\n",
       " 'n',\n",
       " 'd',\n",
       " 'a',\n",
       " 'n',\n",
       " 'a',\n",
       " '2',\n",
       " '2',\n",
       " 'g',\n",
       " 'm',\n",
       " 'a',\n",
       " 'i',\n",
       " 'l',\n",
       " 'c',\n",
       " 'o',\n",
       " 'm']"
      ]
     },
     "execution_count": 15,
     "metadata": {},
     "output_type": "execute_result"
    }
   ],
   "source": [
    "re.findall('\\w','chandana22@gmail.com')"
   ]
  },
  {
   "cell_type": "markdown",
   "metadata": {},
   "source": [
    "# Mobile patterns"
   ]
  },
  {
   "cell_type": "code",
   "execution_count": 17,
   "metadata": {},
   "outputs": [
    {
     "data": {
      "text/plain": [
       "<re.Match object; span=(0, 10), match='8977894789'>"
      ]
     },
     "execution_count": 17,
     "metadata": {},
     "output_type": "execute_result"
    }
   ],
   "source": [
    "re.search('^[6-9][0-9]{9}|[0][6-9][0-9]{10}[+][9][1][6-9][0-9]{9}$', '8977894789')"
   ]
  },
  {
   "cell_type": "markdown",
   "metadata": {},
   "source": [
    "# Mail pattern"
   ]
  },
  {
   "cell_type": "code",
   "execution_count": null,
   "metadata": {},
   "outputs": [],
   "source": [
    "re.search('^[A-Za-z]')"
   ]
  }
 ],
 "metadata": {
  "kernelspec": {
   "display_name": "Python 3",
   "language": "python",
   "name": "python3"
  },
  "language_info": {
   "codemirror_mode": {
    "name": "ipython",
    "version": 3
   },
   "file_extension": ".py",
   "mimetype": "text/x-python",
   "name": "python",
   "nbconvert_exporter": "python",
   "pygments_lexer": "ipython3",
   "version": "3.8.5"
  }
 },
 "nbformat": 4,
 "nbformat_minor": 4
}
